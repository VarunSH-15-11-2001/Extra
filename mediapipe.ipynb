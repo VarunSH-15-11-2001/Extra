{
 "cells": [
  {
   "cell_type": "markdown",
   "metadata": {},
   "source": [
    "### Testing pose detection"
   ]
  },
  {
   "cell_type": "code",
   "execution_count": 2,
   "metadata": {},
   "outputs": [],
   "source": [
    "import cv2\n",
    "import mediapipe as mp"
   ]
  },
  {
   "cell_type": "code",
   "execution_count": 1,
   "metadata": {},
   "outputs": [
    {
     "ename": "NameError",
     "evalue": "name 'mp' is not defined",
     "output_type": "error",
     "traceback": [
      "\u001b[0;31m---------------------------------------------------------------------------\u001b[0m",
      "\u001b[0;31mNameError\u001b[0m                                 Traceback (most recent call last)",
      "\u001b[1;32m/Users/varunshankarhoskere/Desktop/Academics/Extra/mediapipe.ipynb Cell 2\u001b[0m line \u001b[0;36m2\n\u001b[1;32m      <a href='vscode-notebook-cell:/Users/varunshankarhoskere/Desktop/Academics/Extra/mediapipe.ipynb#W0sZmlsZQ%3D%3D?line=0'>1</a>\u001b[0m \u001b[39m# Initialize MediaPipe Pose solution.\u001b[39;00m\n\u001b[0;32m----> <a href='vscode-notebook-cell:/Users/varunshankarhoskere/Desktop/Academics/Extra/mediapipe.ipynb#W0sZmlsZQ%3D%3D?line=1'>2</a>\u001b[0m mp_pose \u001b[39m=\u001b[39m mp\u001b[39m.\u001b[39msolutions\u001b[39m.\u001b[39mpose\n\u001b[1;32m      <a href='vscode-notebook-cell:/Users/varunshankarhoskere/Desktop/Academics/Extra/mediapipe.ipynb#W0sZmlsZQ%3D%3D?line=2'>3</a>\u001b[0m pose \u001b[39m=\u001b[39m mp_pose\u001b[39m.\u001b[39mPose()\n\u001b[1;32m      <a href='vscode-notebook-cell:/Users/varunshankarhoskere/Desktop/Academics/Extra/mediapipe.ipynb#W0sZmlsZQ%3D%3D?line=4'>5</a>\u001b[0m \u001b[39m# Initialize MediaPipe drawing utility.\u001b[39;00m\n",
      "\u001b[0;31mNameError\u001b[0m: name 'mp' is not defined"
     ]
    }
   ],
   "source": [
    "# Initialize MediaPipe Pose solution.\n",
    "mp_pose = mp.solutions.pose\n",
    "pose = mp_pose.Pose()\n",
    "\n",
    "# Initialize MediaPipe drawing utility.\n",
    "mp_drawing = mp.solutions.drawing_utils\n",
    "\n",
    "# Capture video from the default camera.\n",
    "cap = cv2.VideoCapture(0)\n",
    "\n",
    "while cap.isOpened():\n",
    "    success, image = cap.read()\n",
    "    if not success:\n",
    "        print(\"Ignoring empty camera frame.\")\n",
    "        continue\n",
    "\n",
    "    # Convert the BGR image to RGB.\n",
    "    image = cv2.cvtColor(image, cv2.COLOR_BGR2RGB)\n",
    "\n",
    "    # Process the image and detect the pose.\n",
    "    results = pose.process(image)\n",
    "\n",
    "    print(results.x, results.y, results.z)\n",
    "\n",
    "    \"\"\"\n",
    "    results object contains the x y and z axes values of the point that will be drawn\n",
    "                                visibility number which indicated whether that point is clear\n",
    "    \"\"\"\n",
    "\n",
    "\n",
    "    # Draw the pose annotations on the image.\n",
    "    image = cv2.cvtColor(image, cv2.COLOR_RGB2BGR)\n",
    "    if results.pose_landmarks:\n",
    "        mp_drawing.draw_landmarks(image, results.pose_landmarks, mp_pose.POSE_CONNECTIONS)\n",
    "\n",
    "    # Display the resulting image.\n",
    "    cv2.imshow('MediaPipe Pose', image)\n",
    "\n",
    "    # Break the loop if 'q' is pressed.\n",
    "    if cv2.waitKey(5) & 0xFF == ord('q'):\n",
    "        break\n",
    "\n",
    "pose.close()\n",
    "cap.release()\n"
   ]
  },
  {
   "cell_type": "markdown",
   "metadata": {},
   "source": [
    "### Relevant code : "
   ]
  },
  {
   "cell_type": "code",
   "execution_count": 2,
   "metadata": {},
   "outputs": [],
   "source": [
    "import cv2\n",
    "import mediapipe as mp\n",
    "import numpy as np\n",
    "import os\n",
    "from sklearn.model_selection import train_test_split\n",
    "from tqdm import tqdm"
   ]
  },
  {
   "cell_type": "markdown",
   "metadata": {},
   "source": [
    "Function to get the pose from the frame"
   ]
  },
  {
   "cell_type": "code",
   "execution_count": 4,
   "metadata": {},
   "outputs": [
    {
     "name": "stderr",
     "output_type": "stream",
     "text": [
      "WARNING: All log messages before absl::InitializeLog() is called are written to STDERR\n",
      "I0000 00:00:1701150395.601538       1 gl_context.cc:344] GL version: 2.1 (2.1 Metal - 88), renderer: Apple M1 Pro\n"
     ]
    },
    {
     "name": "stderr",
     "output_type": "stream",
     "text": [
      "INFO: Created TensorFlow Lite XNNPACK delegate for CPU.\n"
     ]
    }
   ],
   "source": [
    "mp_pose = mp.solutions.pose\n",
    "pose = mp_pose.Pose(static_image_mode=False, model_complexity=1, enable_segmentation=False, min_detection_confidence=0.5)\n",
    "\n",
    "def extract_pose_data(frame):\n",
    "    # Convert the color space from BGR to RGB\n",
    "    frame_rgb = cv2.cvtColor(frame, cv2.COLOR_BGR2RGB)\n",
    "    \n",
    "    # Process the frame to detect the pose\n",
    "    results = pose.process(frame_rgb)\n",
    "\n",
    "    # Check if pose landmarks are detected\n",
    "    if results.pose_landmarks:\n",
    "        # Extract landmarks data\n",
    "        pose_data = np.array([[lm.x, lm.y, lm.z, lm.visibility] for lm in results.pose_landmarks.landmark]).flatten()\n",
    "        return pose_data\n",
    "    return np.zeros(132)  # Assuming 33 landmarks each with 4 values (x, y, z, visibility)\n"
   ]
  },
  {
   "cell_type": "markdown",
   "metadata": {},
   "source": [
    "Generating the sequences from the dataset"
   ]
  },
  {
   "cell_type": "code",
   "execution_count": 17,
   "metadata": {},
   "outputs": [
    {
     "name": "stderr",
     "output_type": "stream",
     "text": [
      "Processing sequences:   0%|          | 0/8375 [00:00<?, ?it/s]"
     ]
    },
    {
     "name": "stderr",
     "output_type": "stream",
     "text": [
      "Processing sequences: 100%|██████████| 8375/8375 [1:33:57<00:00,  1.49it/s]\n"
     ]
    }
   ],
   "source": [
    "def create_sequences(image_folder, label_folder, sequence_length):\n",
    "    sequences = []\n",
    "    labels = []\n",
    "\n",
    "    image_files = sorted(os.listdir(image_folder))\n",
    "    for i in tqdm(range(len(image_files) - sequence_length + 1), desc=\"Processing sequences\"):\n",
    "        sequence = []\n",
    "        sequence_labels = []\n",
    "\n",
    "        for j in range(i, i + sequence_length):\n",
    "            img_path = os.path.join(image_folder, image_files[j])\n",
    "            frame = cv2.imread(img_path)\n",
    "            if frame is None:\n",
    "                print(f\"Failed to read image: {img_path}\")\n",
    "                break\n",
    "            pose_data = extract_pose_data(frame)\n",
    "            sequence.append(pose_data)\n",
    "\n",
    "            label_path = os.path.join(label_folder, image_files[j].replace('.png', '.txt'))\n",
    "            with open(label_path, 'r') as file:\n",
    "                if file is None:\n",
    "                    print(f\"failed to read label: {label_path}\")\n",
    "                fall_label = int(file.read().split()[0])\n",
    "                sequence_labels.append(fall_label)\n",
    "\n",
    "        if len(sequence) == sequence_length:\n",
    "            sequences.append(sequence)\n",
    "            # Use the most frequent label in the sequence as the sequence label\n",
    "            labels.append(max(set(sequence_labels), key=sequence_labels.count))\n",
    "\n",
    "    return np.array(sequences), np.array(labels)\n",
    "\n",
    "# Example usage\n",
    "sequence_length = 30\n",
    "sequences, labels = create_sequences(\"/Users/varunshankarhoskere/Desktop/Academics/PES/Capstone/Datasets/images\", \n",
    "                                     \"/Users/varunshankarhoskere/Desktop/Academics/PES/Capstone/Datasets/labels\", \n",
    "                                     sequence_length)\n"
   ]
  },
  {
   "cell_type": "code",
   "execution_count": 5,
   "metadata": {},
   "outputs": [
    {
     "name": "stderr",
     "output_type": "stream",
     "text": [
      "Processing image sequences: 100%|██████████| 8375/8375 [1:33:26<00:00,  1.49it/s]\n",
      "Processing label sequences: 100%|██████████| 8375/8375 [00:04<00:00, 2025.00it/s]\n"
     ]
    }
   ],
   "source": [
    "def create_image_sequences(image_folder, sequence_length):\n",
    "    sequences = []\n",
    "    image_files = sorted(os.listdir(image_folder))\n",
    "\n",
    "    for i in tqdm(range(len(image_files) - sequence_length + 1), desc=\"Processing image sequences\"):\n",
    "        sequence = []\n",
    "\n",
    "        for j in range(i, i + sequence_length):\n",
    "            img_path = os.path.join(image_folder, image_files[j])\n",
    "            frame = cv2.imread(img_path)\n",
    "            if frame is None:\n",
    "                print(f\"Failed to read image: {img_path}\")\n",
    "                break\n",
    "            pose_data = extract_pose_data(frame)\n",
    "            sequence.append(pose_data)\n",
    "\n",
    "        if len(sequence) == sequence_length:\n",
    "            sequences.append(sequence)\n",
    "\n",
    "    return np.array(sequences)\n",
    "\n",
    "def create_label_sequences(label_folder, sequence_length, image_files):\n",
    "    labels = []\n",
    "\n",
    "    for i in tqdm(range(len(image_files) - sequence_length + 1), desc=\"Processing label sequences\"):\n",
    "        sequence_labels = []\n",
    "\n",
    "        for j in range(i, i + sequence_length):\n",
    "            label_path = os.path.join(label_folder, image_files[j].replace('.png', '.txt'))\n",
    "            with open(label_path, 'r') as file:\n",
    "                if file is None:\n",
    "                    print(f\"failed to read label: {label_path}\")\n",
    "                fall_label = int(file.read().split()[0])\n",
    "                sequence_labels.append(fall_label)\n",
    "\n",
    "        # Use the most frequent label in the sequence as the sequence label\n",
    "        if sequence_labels:\n",
    "            labels.append(max(set(sequence_labels), key=sequence_labels.count))\n",
    "\n",
    "    return np.array(labels)\n",
    "\n",
    "# Example usage\n",
    "sequence_length = 30\n",
    "image_folder = \"/Users/varunshankarhoskere/Desktop/Academics/PES/Capstone/Datasets/images\"\n",
    "label_folder = \"/Users/varunshankarhoskere/Desktop/Academics/PES/Capstone/Datasets/labels\"\n",
    "\n",
    "image_sequences = create_image_sequences(image_folder, sequence_length)\n",
    "image_files = sorted(os.listdir(image_folder))  # Ensure this matches the sorting in image sequence creation\n",
    "label_sequences = create_label_sequences(label_folder, sequence_length, image_files)\n",
    "\n",
    "# Now image_sequences and label_sequences contain your data\n"
   ]
  },
  {
   "cell_type": "code",
   "execution_count": 7,
   "metadata": {},
   "outputs": [],
   "source": [
    "import torch\n",
    "from torch.utils.data import DataLoader, TensorDataset"
   ]
  },
  {
   "cell_type": "code",
   "execution_count": 9,
   "metadata": {},
   "outputs": [],
   "source": [
    "# Convert sequences and labels to PyTorch tensors\n",
    "sequences_tensor = torch.tensor(image_sequences, dtype=torch.float32)\n",
    "labels_tensor = torch.tensor(label_sequences, dtype=torch.long)\n",
    "\n",
    "# Create a dataset and data loader\n",
    "dataset = TensorDataset(sequences_tensor, labels_tensor)\n",
    "data_loader = DataLoader(dataset, batch_size=32, shuffle=True)\n",
    "\n",
    "# LSTM model initialization and training loop\n",
    "# (Use the FallDetectionLSTM class and training loop provided earlier)\n"
   ]
  },
  {
   "cell_type": "code",
   "execution_count": 10,
   "metadata": {},
   "outputs": [],
   "source": [
    "import torch.nn as nn\n",
    "\n",
    "class FallDetectionLSTM(nn.Module):\n",
    "    def __init__(self, input_size, hidden_size, num_layers, num_classes):\n",
    "        super(FallDetectionLSTM, self).__init__()\n",
    "        self.hidden_size = hidden_size\n",
    "        self.num_layers = num_layers\n",
    "        self.lstm = nn.LSTM(input_size, hidden_size, num_layers, batch_first=True)\n",
    "        self.fc = nn.Linear(hidden_size, num_classes)\n",
    "\n",
    "    def forward(self, x):\n",
    "        # Initialize hidden and cell states\n",
    "        h0 = torch.zeros(self.num_layers, x.size(0), self.hidden_size).to(x.device)\n",
    "        c0 = torch.zeros(self.num_layers, x.size(0), self.hidden_size).to(x.device)\n",
    "\n",
    "        # Forward propagate LSTM\n",
    "        out, _ = self.lstm(x, (h0, c0))  # out: tensor of shape (batch_size, seq_length, hidden_size)\n",
    "\n",
    "        # Decode the hidden state of the last time step\n",
    "        out = self.fc(out[:, -1, :])\n",
    "        return out\n"
   ]
  },
  {
   "cell_type": "code",
   "execution_count": 11,
   "metadata": {},
   "outputs": [],
   "source": [
    "from sklearn.model_selection import train_test_split\n",
    "\n",
    "# Assuming image_sequences and label_sequences are your data\n",
    "train_seqs, test_seqs, train_labels, test_labels = train_test_split(\n",
    "    image_sequences, label_sequences, test_size=0.2, random_state=42\n",
    ")\n",
    "\n",
    "train_dataset = TensorDataset(torch.tensor(train_seqs, dtype=torch.float32), torch.tensor(train_labels, dtype=torch.long))\n",
    "test_dataset = TensorDataset(torch.tensor(test_seqs, dtype=torch.float32), torch.tensor(test_labels, dtype=torch.long))\n",
    "\n",
    "train_loader = DataLoader(train_dataset, batch_size=32, shuffle=True)\n",
    "test_loader = DataLoader(test_dataset, batch_size=32, shuffle=False)\n"
   ]
  },
  {
   "cell_type": "code",
   "execution_count": 12,
   "metadata": {},
   "outputs": [],
   "source": [
    "import torch.optim as optim"
   ]
  },
  {
   "cell_type": "code",
   "execution_count": 15,
   "metadata": {},
   "outputs": [
    {
     "name": "stdout",
     "output_type": "stream",
     "text": [
      "Epoch [1/10], Loss: 0.2466\n",
      "Epoch [2/10], Loss: 0.0670\n",
      "Epoch [3/10], Loss: 0.0312\n",
      "Epoch [4/10], Loss: 0.1829\n",
      "Epoch [5/10], Loss: 0.0271\n",
      "Epoch [6/10], Loss: 0.0004\n",
      "Epoch [7/10], Loss: 0.0562\n",
      "Epoch [8/10], Loss: 0.0281\n",
      "Epoch [9/10], Loss: 0.0881\n",
      "Epoch [10/10], Loss: 0.2218\n",
      "Accuracy: 98.51%\n"
     ]
    }
   ],
   "source": [
    "def train_model(model, train_loader, criterion, optimizer, num_epochs):\n",
    "    model.train()\n",
    "    for epoch in range(num_epochs):\n",
    "        for sequences, labels in train_loader:\n",
    "            optimizer.zero_grad()\n",
    "            outputs = model(sequences)\n",
    "            loss = criterion(outputs, labels)\n",
    "            loss.backward()\n",
    "            optimizer.step()\n",
    "        print(f'Epoch [{epoch+1}/{num_epochs}], Loss: {loss.item():.4f}')\n",
    "\n",
    "def evaluate_model(model, test_loader):\n",
    "    model.eval()\n",
    "    total, correct = 0, 0\n",
    "    with torch.no_grad():\n",
    "        for sequences, labels in test_loader:\n",
    "            outputs = model(sequences)\n",
    "            _, predicted = torch.max(outputs.data, 1)\n",
    "            total += labels.size(0)\n",
    "            correct += (predicted == labels).sum().item()\n",
    "    accuracy = 100 * correct / total\n",
    "    print(f'Accuracy: {accuracy:.2f}%')\n",
    "\n",
    "input_size = 132\n",
    "hidden_size = 132\n",
    "num_layers = 3\n",
    "num_classes = 2\n",
    "\n",
    "# Model Initialization\n",
    "model = FallDetectionLSTM(input_size, hidden_size, num_layers, num_classes)\n",
    "criterion = nn.CrossEntropyLoss()\n",
    "optimizer = optim.Adam(model.parameters(), lr=0.001)\n",
    "\n",
    "# Training and Evaluation\n",
    "train_model(model, train_loader, criterion, optimizer, num_epochs=10)\n",
    "evaluate_model(model, test_loader)\n"
   ]
  },
  {
   "cell_type": "code",
   "execution_count": null,
   "metadata": {},
   "outputs": [],
   "source": []
  }
 ],
 "metadata": {
  "kernelspec": {
   "display_name": "base",
   "language": "python",
   "name": "python3"
  },
  "language_info": {
   "codemirror_mode": {
    "name": "ipython",
    "version": 3
   },
   "file_extension": ".py",
   "mimetype": "text/x-python",
   "name": "python",
   "nbconvert_exporter": "python",
   "pygments_lexer": "ipython3",
   "version": "3.10.9"
  }
 },
 "nbformat": 4,
 "nbformat_minor": 2
}
