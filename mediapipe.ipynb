{
 "cells": [
  {
   "cell_type": "code",
   "execution_count": 1,
   "metadata": {},
   "outputs": [],
   "source": [
    "import cv2\n",
    "import mediapipe as mp"
   ]
  },
  {
   "cell_type": "code",
   "execution_count": 1,
   "metadata": {},
   "outputs": [
    {
     "ename": "NameError",
     "evalue": "name 'mp' is not defined",
     "output_type": "error",
     "traceback": [
      "\u001b[0;31m---------------------------------------------------------------------------\u001b[0m",
      "\u001b[0;31mNameError\u001b[0m                                 Traceback (most recent call last)",
      "\u001b[1;32m/Users/varunshankarhoskere/Desktop/Academics/Extra/mediapipe.ipynb Cell 2\u001b[0m line \u001b[0;36m2\n\u001b[1;32m      <a href='vscode-notebook-cell:/Users/varunshankarhoskere/Desktop/Academics/Extra/mediapipe.ipynb#W0sZmlsZQ%3D%3D?line=0'>1</a>\u001b[0m \u001b[39m# Initialize MediaPipe Pose solution.\u001b[39;00m\n\u001b[0;32m----> <a href='vscode-notebook-cell:/Users/varunshankarhoskere/Desktop/Academics/Extra/mediapipe.ipynb#W0sZmlsZQ%3D%3D?line=1'>2</a>\u001b[0m mp_pose \u001b[39m=\u001b[39m mp\u001b[39m.\u001b[39msolutions\u001b[39m.\u001b[39mpose\n\u001b[1;32m      <a href='vscode-notebook-cell:/Users/varunshankarhoskere/Desktop/Academics/Extra/mediapipe.ipynb#W0sZmlsZQ%3D%3D?line=2'>3</a>\u001b[0m pose \u001b[39m=\u001b[39m mp_pose\u001b[39m.\u001b[39mPose()\n\u001b[1;32m      <a href='vscode-notebook-cell:/Users/varunshankarhoskere/Desktop/Academics/Extra/mediapipe.ipynb#W0sZmlsZQ%3D%3D?line=4'>5</a>\u001b[0m \u001b[39m# Initialize MediaPipe drawing utility.\u001b[39;00m\n",
      "\u001b[0;31mNameError\u001b[0m: name 'mp' is not defined"
     ]
    }
   ],
   "source": [
    "# Initialize MediaPipe Pose solution.\n",
    "mp_pose = mp.solutions.pose\n",
    "pose = mp_pose.Pose()\n",
    "\n",
    "# Initialize MediaPipe drawing utility.\n",
    "mp_drawing = mp.solutions.drawing_utils\n",
    "\n",
    "# Capture video from the default camera.\n",
    "cap = cv2.VideoCapture(0)\n",
    "\n",
    "while cap.isOpened():\n",
    "    success, image = cap.read()\n",
    "    if not success:\n",
    "        print(\"Ignoring empty camera frame.\")\n",
    "        continue\n",
    "\n",
    "    # Convert the BGR image to RGB.\n",
    "    image = cv2.cvtColor(image, cv2.COLOR_BGR2RGB)\n",
    "\n",
    "    # Process the image and detect the pose.\n",
    "    results = pose.process(image)\n",
    "\n",
    "    print(results.x, results.y, results.z)\n",
    "\n",
    "    \"\"\"\n",
    "    results object contains the x y and z axes values of the point that will be drawn\n",
    "                                visibility number which indicated whether that point is clear\n",
    "    \"\"\"\n",
    "\n",
    "\n",
    "    # Draw the pose annotations on the image.\n",
    "    image = cv2.cvtColor(image, cv2.COLOR_RGB2BGR)\n",
    "    if results.pose_landmarks:\n",
    "        mp_drawing.draw_landmarks(image, results.pose_landmarks, mp_pose.POSE_CONNECTIONS)\n",
    "\n",
    "    # Display the resulting image.\n",
    "    cv2.imshow('MediaPipe Pose', image)\n",
    "\n",
    "    # Break the loop if 'q' is pressed.\n",
    "    if cv2.waitKey(5) & 0xFF == ord('q'):\n",
    "        break\n",
    "\n",
    "pose.close()\n",
    "cap.release()\n"
   ]
  },
  {
   "cell_type": "markdown",
   "metadata": {},
   "source": [
    "### Pytorch LSTM (haven't checked if it works)"
   ]
  },
  {
   "cell_type": "code",
   "execution_count": null,
   "metadata": {},
   "outputs": [],
   "source": [
    "import torch\n",
    "import torch.nn as nn"
   ]
  },
  {
   "cell_type": "code",
   "execution_count": null,
   "metadata": {},
   "outputs": [],
   "source": [
    "class FallDetectionLSTM(nn.Module):\n",
    "    def __init__(self, input_size, hidden_size, num_layers, num_classes):\n",
    "        super(FallDetectionLSTM, self).__init__()\n",
    "        self.hidden_size = hidden_size\n",
    "        self.num_layers = num_layers\n",
    "        self.lstm = nn.LSTM(input_size, hidden_size, num_layers, batch_first=True)\n",
    "        self.fc = nn.Linear(hidden_size, num_classes)\n",
    "\n",
    "    def forward(self, x):\n",
    "        # Initialize hidden state and cell state\n",
    "        h0 = torch.zeros(self.num_layers, x.size(0), self.hidden_size).to(x.device)\n",
    "        c0 = torch.zeros(self.num_layers, x.size(0), self.hidden_size).to(x.device)\n",
    "\n",
    "        # Forward propagate LSTM\n",
    "        out, _ = self.lstm(x, (h0, c0))  # out: tensor of shape (batch_size, seq_length, hidden_size)\n",
    "\n",
    "        # Decode the hidden state of the last time step\n",
    "        out = self.fc(out[:, -1, :])\n",
    "        return out\n"
   ]
  },
  {
   "cell_type": "markdown",
   "metadata": {},
   "source": [
    "### Preparing the input (haven't checked if it works)"
   ]
  },
  {
   "cell_type": "code",
   "execution_count": null,
   "metadata": {},
   "outputs": [],
   "source": [
    "import numpy as np"
   ]
  },
  {
   "cell_type": "code",
   "execution_count": null,
   "metadata": {},
   "outputs": [],
   "source": [
    "# Parameters\n",
    "sequence_length = 30  # Length of the sequence to be fed into the LSTM\n",
    "num_joints = 33       # Number of joints detected by MediaPipe Pose\n",
    "num_features = 4      # x, y, z, and visibility for each joint\n",
    "\n",
    "# Initialize a list to store pose data\n",
    "pose_data = []\n",
    "\n",
    "# Process each frame (example in a loop, replace with actual frame processing)\n",
    "for frame in frames:\n",
    "    results = pose.process(frame)\n",
    "    if results.pose_landmarks:\n",
    "        frame_data = np.array([[lm.x, lm.y, lm.z, lm.visibility] for lm in results.pose_landmarks.landmark]).flatten()\n",
    "        pose_data.append(frame_data)\n",
    "\n",
    "        # Check if collected enough data\n",
    "        if len(pose_data) == sequence_length:\n",
    "            # Convert to numpy array and reshape for LSTM input\n",
    "            lstm_input = np.array(pose_data).reshape(1, sequence_length, -1)  # Shape: (1, sequence_length, num_features*num_joints)\n",
    "            pose_data.pop(0)  # Remove the oldest frame data to maintain the sequence length\n",
    "\n",
    "            # Convert to PyTorch tensor\n",
    "            lstm_input_tensor = torch.tensor(lstm_input, dtype=torch.float32)\n",
    "\n",
    "            # Now you can feed this tensor into your LSTM model\n",
    "            # model_output = model(lstm_input_tensor)\n",
    "            # Perform your fall detection logic based on the model_output\n"
   ]
  }
 ],
 "metadata": {
  "kernelspec": {
   "display_name": "base",
   "language": "python",
   "name": "python3"
  },
  "language_info": {
   "codemirror_mode": {
    "name": "ipython",
    "version": 3
   },
   "file_extension": ".py",
   "mimetype": "text/x-python",
   "name": "python",
   "nbconvert_exporter": "python",
   "pygments_lexer": "ipython3",
   "version": "3.10.9"
  }
 },
 "nbformat": 4,
 "nbformat_minor": 2
}
