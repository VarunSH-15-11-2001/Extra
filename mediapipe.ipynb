{
 "cells": [
  {
   "cell_type": "code",
   "execution_count": 2,
   "metadata": {},
   "outputs": [],
   "source": [
    "import cv2\n",
    "import mediapipe as mp"
   ]
  },
  {
   "cell_type": "code",
   "execution_count": 1,
   "metadata": {},
   "outputs": [
    {
     "ename": "NameError",
     "evalue": "name 'mp' is not defined",
     "output_type": "error",
     "traceback": [
      "\u001b[0;31m---------------------------------------------------------------------------\u001b[0m",
      "\u001b[0;31mNameError\u001b[0m                                 Traceback (most recent call last)",
      "\u001b[1;32m/Users/varunshankarhoskere/Desktop/Academics/Extra/mediapipe.ipynb Cell 2\u001b[0m line \u001b[0;36m2\n\u001b[1;32m      <a href='vscode-notebook-cell:/Users/varunshankarhoskere/Desktop/Academics/Extra/mediapipe.ipynb#W0sZmlsZQ%3D%3D?line=0'>1</a>\u001b[0m \u001b[39m# Initialize MediaPipe Pose solution.\u001b[39;00m\n\u001b[0;32m----> <a href='vscode-notebook-cell:/Users/varunshankarhoskere/Desktop/Academics/Extra/mediapipe.ipynb#W0sZmlsZQ%3D%3D?line=1'>2</a>\u001b[0m mp_pose \u001b[39m=\u001b[39m mp\u001b[39m.\u001b[39msolutions\u001b[39m.\u001b[39mpose\n\u001b[1;32m      <a href='vscode-notebook-cell:/Users/varunshankarhoskere/Desktop/Academics/Extra/mediapipe.ipynb#W0sZmlsZQ%3D%3D?line=2'>3</a>\u001b[0m pose \u001b[39m=\u001b[39m mp_pose\u001b[39m.\u001b[39mPose()\n\u001b[1;32m      <a href='vscode-notebook-cell:/Users/varunshankarhoskere/Desktop/Academics/Extra/mediapipe.ipynb#W0sZmlsZQ%3D%3D?line=4'>5</a>\u001b[0m \u001b[39m# Initialize MediaPipe drawing utility.\u001b[39;00m\n",
      "\u001b[0;31mNameError\u001b[0m: name 'mp' is not defined"
     ]
    }
   ],
   "source": [
    "# Initialize MediaPipe Pose solution.\n",
    "mp_pose = mp.solutions.pose\n",
    "pose = mp_pose.Pose()\n",
    "\n",
    "# Initialize MediaPipe drawing utility.\n",
    "mp_drawing = mp.solutions.drawing_utils\n",
    "\n",
    "# Capture video from the default camera.\n",
    "cap = cv2.VideoCapture(0)\n",
    "\n",
    "while cap.isOpened():\n",
    "    success, image = cap.read()\n",
    "    if not success:\n",
    "        print(\"Ignoring empty camera frame.\")\n",
    "        continue\n",
    "\n",
    "    # Convert the BGR image to RGB.\n",
    "    image = cv2.cvtColor(image, cv2.COLOR_BGR2RGB)\n",
    "\n",
    "    # Process the image and detect the pose.\n",
    "    results = pose.process(image)\n",
    "\n",
    "    print(results.x, results.y, results.z)\n",
    "\n",
    "    \"\"\"\n",
    "    results object contains the x y and z axes values of the point that will be drawn\n",
    "                                visibility number which indicated whether that point is clear\n",
    "    \"\"\"\n",
    "\n",
    "\n",
    "    # Draw the pose annotations on the image.\n",
    "    image = cv2.cvtColor(image, cv2.COLOR_RGB2BGR)\n",
    "    if results.pose_landmarks:\n",
    "        mp_drawing.draw_landmarks(image, results.pose_landmarks, mp_pose.POSE_CONNECTIONS)\n",
    "\n",
    "    # Display the resulting image.\n",
    "    cv2.imshow('MediaPipe Pose', image)\n",
    "\n",
    "    # Break the loop if 'q' is pressed.\n",
    "    if cv2.waitKey(5) & 0xFF == ord('q'):\n",
    "        break\n",
    "\n",
    "pose.close()\n",
    "cap.release()\n"
   ]
  },
  {
   "cell_type": "code",
   "execution_count": 10,
   "metadata": {},
   "outputs": [],
   "source": [
    "import os\n",
    "import cv2\n",
    "import numpy as np\n",
    "from sklearn.model_selection import train_test_split\n",
    "\n",
    "def create_sequences(image_folder, label_folder, sequence_length):\n",
    "    sequences = []\n",
    "    labels = []\n",
    "\n",
    "    image_files = sorted(os.listdir(image_folder))\n",
    "    for i in range(len(image_files) - sequence_length + 1):\n",
    "        sequence = []\n",
    "        sequence_labels = []\n",
    "\n",
    "        for j in range(i, i + sequence_length):\n",
    "            img_path = os.path.join(image_folder, image_files[j])\n",
    "            frame = cv2.imread(img_path)\n",
    "            if frame is None:\n",
    "                print(f\"Failed to read image: {img_path}\")\n",
    "                break\n",
    "            pose_data = extract_pose_data(frame)\n",
    "            sequence.append(pose_data)\n",
    "\n",
    "            label_path = os.path.join(label_folder, image_files[j].replace('.png', '.txt'))\n",
    "            with open(label_path, 'r') as file:\n",
    "                if file is None:\n",
    "                    print(f\"failed to read label: {label_path}\")\n",
    "                fall_label = int(file.read().split()[0])\n",
    "                sequence_labels.append(fall_label)\n",
    "\n",
    "        if len(sequence) == sequence_length:\n",
    "            sequences.append(sequence)\n",
    "            # Use the most frequent label in the sequence as the sequence label\n",
    "            labels.append(max(set(sequence_labels), key=sequence_labels.count))\n",
    "\n",
    "    return np.array(sequences), np.array(labels)\n",
    "\n",
    "# Example usage\n",
    "sequence_length = 30\n",
    "sequences, labels = create_sequences(\"/Users/varunshankarhoskere/Desktop/Academics/PES/Capstone/Datasets/images\", \n",
    "                                     \"/Users/varunshankarhoskere/Desktop/Academics/PES/Capstone/Datasets/labels\", \n",
    "                                     sequence_length)\n"
   ]
  },
  {
   "cell_type": "code",
   "execution_count": null,
   "metadata": {},
   "outputs": [],
   "source": [
    "import torch\n",
    "from torch.utils.data import DataLoader, TensorDataset\n",
    "\n",
    "# Convert sequences and labels to PyTorch tensors\n",
    "sequences_tensor = torch.tensor(sequences, dtype=torch.float32)\n",
    "labels_tensor = torch.tensor(labels, dtype=torch.long)\n",
    "\n",
    "# Create a dataset and data loader\n",
    "dataset = TensorDataset(sequences_tensor, labels_tensor)\n",
    "data_loader = DataLoader(dataset, batch_size=32, shuffle=True)\n",
    "\n",
    "# LSTM model initialization and training loop\n",
    "# (Use the FallDetectionLSTM class and training loop provided earlier)\n"
   ]
  }
 ],
 "metadata": {
  "kernelspec": {
   "display_name": "base",
   "language": "python",
   "name": "python3"
  },
  "language_info": {
   "codemirror_mode": {
    "name": "ipython",
    "version": 3
   },
   "file_extension": ".py",
   "mimetype": "text/x-python",
   "name": "python",
   "nbconvert_exporter": "python",
   "pygments_lexer": "ipython3",
   "version": "3.10.9"
  }
 },
 "nbformat": 4,
 "nbformat_minor": 2
}
